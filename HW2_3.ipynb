{
  "cells": [
    {
      "cell_type": "markdown",
      "metadata": {
        "id": "QLaRZsuTKGV1"
      },
      "source": [
        "\n",
        "ANSWER TO THE QUSTION NO 3"
      ]
    },
    {
      "cell_type": "markdown",
      "source": [
        "Faria Naznin\n",
        "1931198042"
      ],
      "metadata": {
        "id": "lKk_ECy77Rah"
      }
    },
    {
      "cell_type": "code",
      "execution_count": 1,
      "metadata": {
        "id": "dUWoKzmMWTpi"
      },
      "outputs": [],
      "source": [
        "#import libraries\n",
        "import numpy as np\n",
        "import matplotlib.pyplot as plt"
      ]
    },
    {
      "cell_type": "code",
      "execution_count": 2,
      "metadata": {
        "colab": {
          "base_uri": "https://localhost:8080/"
        },
        "id": "neA648efX2bS",
        "outputId": "2c6a7102-d680-4437-ab06-0cd7333a1554"
      },
      "outputs": [
        {
          "output_type": "execute_result",
          "data": {
            "text/plain": [
              "array([0.000e+00, 1.000e-02, 2.000e-02, ..., 1.497e+01, 1.498e+01,\n",
              "       1.499e+01])"
            ]
          },
          "metadata": {},
          "execution_count": 2
        }
      ],
      "source": [
        "t = np.arange(0, 15, 0.01)\n",
        "t"
      ]
    },
    {
      "cell_type": "code",
      "execution_count": 3,
      "metadata": {
        "id": "boiuiu9thySN"
      },
      "outputs": [],
      "source": [
        "# Declare Final time T\n",
        "T= 15\n",
        "Tsq = np.power(T,2)\n",
        "Tcb = np.power(T,3)"
      ]
    },
    {
      "cell_type": "code",
      "execution_count": 4,
      "metadata": {
        "colab": {
          "base_uri": "https://localhost:8080/"
        },
        "id": "PgtEBvc9h0Yt",
        "outputId": "d7d45f79-4018-4c08-f20b-c1c824eef51a"
      },
      "outputs": [
        {
          "output_type": "execute_result",
          "data": {
            "text/plain": [
              "array([[   1,    0,    0,    0,    0,    0,    0,    0],\n",
              "       [   0,    1,    0,    0,    0,    0,    0,    0],\n",
              "       [   0,    0,    0,    0,    1,    0,    0,    0],\n",
              "       [   0,    0,    0,    0,    0,    1,    0,    0],\n",
              "       [   1,   15,  225, 3375,    0,    0,    0,    0],\n",
              "       [   0,    1,   30,  675,    0,    0,    0,    0],\n",
              "       [   0,    0,    0,    0,    1,   15,  225, 3375],\n",
              "       [   0,    0,    0,    0,    0,    1,   30,  675]])"
            ]
          },
          "metadata": {},
          "execution_count": 4
        }
      ],
      "source": [
        "#initialized A\n",
        "A = np.array([[1, 0, 0, 0,  0, 0, 0, 0],\n",
        "              [0, 1, 0, 0,  0, 0, 0, 0],\n",
        "              [0, 0, 0, 0,  1, 0, 0, 0],\n",
        "              [0, 0, 0, 0,  0, 1, 0, 0],\n",
        "              [1, T, Tsq, Tcb,  0, 0, 0, 0],\n",
        "              [0, 1, 2*T, 3*Tsq,  0, 0, 0, 0],\n",
        "              [0, 0, 0, 0,  1, T, Tsq, Tcb,],\n",
        "              [0, 0, 0, 0,  0, 1, 2*T, 3*Tsq]\n",
        "              ]\n",
        "            )\n",
        "A"
      ]
    },
    {
      "cell_type": "code",
      "execution_count": 5,
      "metadata": {
        "colab": {
          "base_uri": "https://localhost:8080/"
        },
        "id": "i2wvUTTJh6FO",
        "outputId": "0f692f6c-8f2e-430c-d70b-a698bde2abd3"
      },
      "outputs": [
        {
          "output_type": "execute_result",
          "data": {
            "text/plain": [
              "array([[ 1.00000000e+00,  6.57760495e-13, -5.52538061e-18,\n",
              "         0.00000000e+00, -6.19490567e-16,  3.81438435e-15,\n",
              "         0.00000000e+00,  0.00000000e+00],\n",
              "       [ 1.93424569e-16,  1.00000000e+00, -5.52332145e-17,\n",
              "         0.00000000e+00, -1.94900710e-16, -2.52873958e-17,\n",
              "         0.00000000e+00,  0.00000000e+00],\n",
              "       [-1.33333333e-02, -1.33333333e-01,  7.47210043e-18,\n",
              "         0.00000000e+00,  1.33333333e-02, -6.66666667e-02,\n",
              "         0.00000000e+00,  0.00000000e+00],\n",
              "       [ 5.92592593e-04,  4.44444444e-03, -2.50992886e-19,\n",
              "         0.00000000e+00, -5.92592593e-04,  4.44444444e-03,\n",
              "         0.00000000e+00,  0.00000000e+00],\n",
              "       [-2.04165123e-17,  3.53844622e-17,  1.00000000e+00,\n",
              "         4.14882717e-13,  2.04165123e-17, -1.02234920e-16,\n",
              "         5.02970729e-16, -3.22867442e-16],\n",
              "       [ 2.19473768e-18,  5.05716168e-17, -6.94486066e-17,\n",
              "         1.00000000e+00, -2.19473768e-18,  1.09897097e-17,\n",
              "        -5.40679670e-17,  1.25776347e-15],\n",
              "       [-2.15314420e-20, -7.32082839e-18, -1.33333333e-02,\n",
              "        -1.33333333e-01,  2.15314420e-20, -1.07769583e-19,\n",
              "         1.33333333e-02, -6.66666667e-02],\n",
              "       [-2.27057986e-21,  2.52717599e-19,  5.92592593e-04,\n",
              "         4.44444444e-03,  2.27057986e-21, -1.13714767e-20,\n",
              "        -5.92592593e-04,  4.44444444e-03]])"
            ]
          },
          "metadata": {},
          "execution_count": 5
        }
      ],
      "source": [
        "# A pesudo inverse\n",
        "Ainv = np.linalg.pinv(A)\n",
        "Ainv"
      ]
    },
    {
      "cell_type": "code",
      "execution_count": 6,
      "metadata": {
        "colab": {
          "base_uri": "https://localhost:8080/"
        },
        "id": "I_lcqstkh8Bd",
        "outputId": "8d343a4c-9e80-4e45-bc67-6cefc36de2c2"
      },
      "outputs": [
        {
          "output_type": "execute_result",
          "data": {
            "text/plain": [
              "array([[ 0. ],\n",
              "       [ 0. ],\n",
              "       [ 0. ],\n",
              "       [-0.5],\n",
              "       [ 5. ],\n",
              "       [ 0. ],\n",
              "       [ 5. ],\n",
              "       [-0.5]])"
            ]
          },
          "metadata": {},
          "execution_count": 6
        }
      ],
      "source": [
        "#initialized b\n",
        "b =  np.array([[0],#x1(0)\n",
        "               [0],#1\n",
        "               [0],#x3(0)\n",
        "               [-0.5],#x2(0)\n",
        "               [5],#x1(T)\n",
        "               [0],#1\n",
        "               [5],#x3(T)\n",
        "               [-0.5] #x2(T)\n",
        "              ]\n",
        "            )\n",
        "\n",
        "b"
      ]
    },
    {
      "cell_type": "code",
      "execution_count": 7,
      "metadata": {
        "colab": {
          "base_uri": "https://localhost:8080/"
        },
        "id": "sRcdYGrDiXR2",
        "outputId": "157872fc-244a-4b47-abe3-2bd3e247889d"
      },
      "outputs": [
        {
          "output_type": "execute_result",
          "data": {
            "text/plain": [
              "array([[-3.09745283e-15],\n",
              "       [-9.74503549e-16],\n",
              "       [ 6.66666667e-02],\n",
              "       [-2.96296296e-03],\n",
              "       [-2.04662988e-13],\n",
              "       [-5.00000000e-01],\n",
              "       [ 1.66666667e-01],\n",
              "       [-7.40740741e-03]])"
            ]
          },
          "metadata": {},
          "execution_count": 7
        }
      ],
      "source": [
        "#matrix multiplication x = Ainv * b\n",
        "x= np.matmul(Ainv, b)\n",
        "x\n"
      ]
    },
    {
      "cell_type": "code",
      "execution_count": 8,
      "metadata": {
        "colab": {
          "base_uri": "https://localhost:8080/"
        },
        "id": "BKZdcve-igG2",
        "outputId": "7eb75720-52f3-414e-ac79-86d326347dab"
      },
      "outputs": [
        {
          "output_type": "execute_result",
          "data": {
            "text/plain": [
              "array([-3.09745283e-15])"
            ]
          },
          "metadata": {},
          "execution_count": 8
        }
      ],
      "source": [
        "a11 = x[0]\n",
        "a11"
      ]
    },
    {
      "cell_type": "code",
      "execution_count": 9,
      "metadata": {
        "colab": {
          "base_uri": "https://localhost:8080/"
        },
        "id": "Q9a9pA2QimYF",
        "outputId": "1622dee2-9b59-408e-f101-78e5dbe8e882"
      },
      "outputs": [
        {
          "output_type": "execute_result",
          "data": {
            "text/plain": [
              "array([-9.74503549e-16])"
            ]
          },
          "metadata": {},
          "execution_count": 9
        }
      ],
      "source": [
        "a12 = x[1]\n",
        "a12\n"
      ]
    },
    {
      "cell_type": "code",
      "execution_count": 10,
      "metadata": {
        "colab": {
          "base_uri": "https://localhost:8080/"
        },
        "id": "jvEAJvZoioZE",
        "outputId": "9d8e473b-f1a8-4029-dd73-b211306e462c"
      },
      "outputs": [
        {
          "output_type": "execute_result",
          "data": {
            "text/plain": [
              "array([0.06666667])"
            ]
          },
          "metadata": {},
          "execution_count": 10
        }
      ],
      "source": [
        "a13 = x[2]\n",
        "a13"
      ]
    },
    {
      "cell_type": "code",
      "execution_count": 11,
      "metadata": {
        "colab": {
          "base_uri": "https://localhost:8080/"
        },
        "id": "fyljNZdVioTt",
        "outputId": "2de4c7a6-24bc-4de8-90df-49a8272134dc"
      },
      "outputs": [
        {
          "output_type": "execute_result",
          "data": {
            "text/plain": [
              "array([-0.00296296])"
            ]
          },
          "metadata": {},
          "execution_count": 11
        }
      ],
      "source": [
        "a14 = x[3]\n",
        "a14"
      ]
    },
    {
      "cell_type": "code",
      "execution_count": 12,
      "metadata": {
        "colab": {
          "base_uri": "https://localhost:8080/"
        },
        "id": "1p750RowioQM",
        "outputId": "c2be1151-452d-4330-9461-2789297d7c40"
      },
      "outputs": [
        {
          "output_type": "execute_result",
          "data": {
            "text/plain": [
              "array([-2.04662988e-13])"
            ]
          },
          "metadata": {},
          "execution_count": 12
        }
      ],
      "source": [
        "a21 = x[4]\n",
        "a21"
      ]
    },
    {
      "cell_type": "code",
      "execution_count": 13,
      "metadata": {
        "colab": {
          "base_uri": "https://localhost:8080/"
        },
        "id": "UG4ZdCKrioMU",
        "outputId": "6d472109-7c89-45e4-c717-becb9a666249"
      },
      "outputs": [
        {
          "output_type": "execute_result",
          "data": {
            "text/plain": [
              "array([-0.5])"
            ]
          },
          "metadata": {},
          "execution_count": 13
        }
      ],
      "source": [
        "a22 = x[5]\n",
        "a22"
      ]
    },
    {
      "cell_type": "code",
      "execution_count": 14,
      "metadata": {
        "colab": {
          "base_uri": "https://localhost:8080/"
        },
        "id": "sIicIrFXioE-",
        "outputId": "e957bc66-3cf5-451a-97c0-ea6ea1b9b6ea"
      },
      "outputs": [
        {
          "output_type": "execute_result",
          "data": {
            "text/plain": [
              "array([0.16666667])"
            ]
          },
          "metadata": {},
          "execution_count": 14
        }
      ],
      "source": [
        "a23 = x[6]\n",
        "a23"
      ]
    },
    {
      "cell_type": "code",
      "execution_count": 15,
      "metadata": {
        "colab": {
          "base_uri": "https://localhost:8080/"
        },
        "id": "8gP6-nxKin5d",
        "outputId": "81c9b8f3-a3c7-45c9-9e09-04ef356d4fed"
      },
      "outputs": [
        {
          "output_type": "execute_result",
          "data": {
            "text/plain": [
              "array([-0.00740741])"
            ]
          },
          "metadata": {},
          "execution_count": 15
        }
      ],
      "source": [
        "a24 = x[7]\n",
        "a24"
      ]
    },
    {
      "cell_type": "code",
      "execution_count": 16,
      "metadata": {
        "colab": {
          "base_uri": "https://localhost:8080/"
        },
        "id": "MpzaRM1Mizc0",
        "outputId": "023060c1-2a97-4012-c10a-741eddcfcdd6"
      },
      "outputs": [
        {
          "output_type": "execute_result",
          "data": {
            "text/plain": [
              "(array([-3.09745283e-15,  6.66370370e-06,  2.66429630e-05, ...,\n",
              "         4.99994008e+00,  4.99997336e+00,  4.99999334e+00]),\n",
              " array([-2.04662988e-13, -4.98334074e-03, -9.93339259e-03, ...,\n",
              "         5.01485020e+00,  5.00993339e+00,  5.00498334e+00]))"
            ]
          },
          "metadata": {},
          "execution_count": 16
        }
      ],
      "source": [
        "for i in t:\n",
        "  X = a11 + (a12* t) + (a13 * np.power(t,2)) + (a14 * np.power(t,3))\n",
        "  Y = a21 + (a22* t) + (a23 * np.power(t,2)) + (a24 * np.power(t,3) )\n",
        "\n",
        "X, Y"
      ]
    },
    {
      "cell_type": "code",
      "execution_count": 17,
      "metadata": {
        "colab": {
          "base_uri": "https://localhost:8080/",
          "height": 489
        },
        "id": "yJLRzRloi9oU",
        "outputId": "8c1da989-42dd-4c14-b2af-1d4c51708685"
      },
      "outputs": [
        {
          "output_type": "execute_result",
          "data": {
            "text/plain": [
              "Text(0, 0.5, 'Y')"
            ]
          },
          "metadata": {},
          "execution_count": 17
        },
        {
          "output_type": "display_data",
          "data": {
            "text/plain": [
              "<Figure size 640x480 with 1 Axes>"
            ],
            "image/png": "[encoded data removed]"
          },
          "metadata": {}
        }
      ],
      "source": [
        "plt.plot(X,Y)\n",
        "plt.title('X vs Y')\n",
        "plt.xlabel('X')\n",
        "plt.ylabel('Y')"
      ]
    },
    {
      "cell_type": "code",
      "execution_count": 18,
      "metadata": {
        "id": "s4rp_9WI7MZv"
      },
      "outputs": [],
      "source": [
        "X_new = a11 + a12 * t + a13 * t**2 + a14 * t**3\n",
        "Y_new = a21 + a22 * t + a23 * t**2 + a24 * t**3"
      ]
    },
    {
      "cell_type": "code",
      "execution_count": 19,
      "metadata": {
        "id": "v8tiumju7MZv"
      },
      "outputs": [],
      "source": [
        "Xdd = np.gradient(np.gradient(X_new, t), t)\n",
        "Ydd = np.gradient(np.gradient(Y_new, t), t)"
      ]
    },
    {
      "cell_type": "code",
      "execution_count": 20,
      "metadata": {
        "id": "3x7Ah-fq7MZv"
      },
      "outputs": [],
      "source": [
        "theta = np.arctan2(np.gradient(Y_new, t), np.gradient(X_new, t))\n",
        "V = np.sqrt(np.gradient(X_new, t)**2 + np.gradient(Y_new, t)**2)\n",
        "a = np.cos(theta) * Xdd + np.sin(theta) * Ydd\n",
        "\n",
        "omega = (-np.sin(theta) * Xdd + np.cos(theta) * Ydd) / V"
      ]
    },
    {
      "cell_type": "code",
      "execution_count": 21,
      "metadata": {
        "id": "cgjCH3S77MZw"
      },
      "outputs": [],
      "source": [
        "noise_std_v = 0.01\n",
        "noise_std_theta = 0.001\n",
        "noise_v = np.random.normal(0, noise_std_v, len(t))\n",
        "noise_theta = np.random.normal(0, noise_std_theta, len(t))"
      ]
    },
    {
      "cell_type": "code",
      "execution_count": 22,
      "metadata": {
        "id": "iM8FCYVR7MZw"
      },
      "outputs": [],
      "source": [
        "# initialize\n",
        "# x_final = X_new[0]\n",
        "# y_final = Y_new[0]\n",
        "# theta_final = theta[0]\n",
        "# V_final = V[0]\n",
        "x_final = X_new[0]\n",
        "y_final = Y_new[0]\n",
        "theta_final = theta[0]\n",
        "V_final = V[0]"
      ]
    },
    {
      "cell_type": "code",
      "execution_count": 23,
      "metadata": {
        "id": "2nHtX3Ai7MZw"
      },
      "outputs": [],
      "source": [
        "x_states = [x_final]\n",
        "y_states = [y_final]\n"
      ]
    },
    {
      "cell_type": "code",
      "execution_count": 24,
      "metadata": {
        "id": "ohNp6JvP7MZw"
      },
      "outputs": [],
      "source": [
        "# for i in range(1, len(t)):\n",
        "#     x_final += V_final * np.cos(theta_final) * (t[i] - t[i-1])\n",
        "#     y_final += V_final * np.sin(theta_final) * (t[i] - t[i-1])\n",
        "#     theta_final += omega[i] * (t[i] - t[i-1])\n",
        "#     V_final += a[i] * (t[i] - t[i-1])\n",
        "\n",
        "#     x_states.append(x_final)\n",
        "#     y_states.append(y_final)\n",
        "for i in range(1, len(t)):\n",
        "    x_final += V_final * np.cos(theta_final) * (t[i] - t[i-1])\n",
        "    y_final += V_final * np.sin(theta_final) * (t[i] - t[i-1])\n",
        "\n",
        "    # Add noise to theta and V\n",
        "    theta_final += omega[i] * (t[i] - t[i-1]) + np.random.normal(0, noise_std_theta)\n",
        "    V_final += a[i] * (t[i] - t[i-1]) + np.random.normal(0, noise_std_v)\n",
        "\n",
        "    x_states.append(x_final)\n",
        "    y_states.append(y_final)"
      ]
    },
    {
      "cell_type": "code",
      "execution_count": 25,
      "metadata": {
        "scrolled": true,
        "colab": {
          "base_uri": "https://localhost:8080/",
          "height": 472
        },
        "id": "uAg9aj7m7MZx",
        "outputId": "f3717f05-c1dc-47fc-cc1c-c491578c8d0a"
      },
      "outputs": [
        {
          "output_type": "display_data",
          "data": {
            "text/plain": [
              "<Figure size 640x480 with 1 Axes>"
            ],
            "image/png": "[encoded data removed]"
          },
          "metadata": {}
        }
      ],
      "source": [
        "plt.figure()\n",
        "plt.plot(X, Y, label='Desired Trajectory', color='blue')\n",
        "plt.plot(x_states, y_states, label='Robot Trajectory', linestyle='dotted', color='red')\n",
        "plt.xlabel('X')\n",
        "plt.ylabel('Y')\n",
        "plt.legend()\n",
        "plt.title('Desired and Robot Trajectories')\n",
        "plt.grid(True)\n",
        "plt.show()\n"
      ]
    },
    {
      "cell_type": "code",
      "execution_count": 26,
      "metadata": {
        "colab": {
          "base_uri": "https://localhost:8080/",
          "height": 472
        },
        "id": "k1AXg3qK7MZx",
        "outputId": "bb050a95-c362-4fd2-8a8d-014a52b5278c"
      },
      "outputs": [
        {
          "output_type": "display_data",
          "data": {
            "text/plain": [
              "<Figure size 640x480 with 1 Axes>"
            ],
            "image/png": "[encoded data removed]"
          },
          "metadata": {}
        }
      ],
      "source": [
        "plt.figure()\n",
        "plt.plot(X, Y, label='Desired Trajectory', color='blue')\n",
        "plt.plot(x_states, y_states, label='Robot Trajectory', linestyle='-', linewidth=5, color='red', alpha=0.5, marker='o', markersize=1, markeredgecolor='red')\n",
        "plt.xlabel('X')\n",
        "plt.ylabel('Y')\n",
        "plt.legend()\n",
        "plt.title('Desired and Robot Trajectories')\n",
        "plt.grid(True)\n",
        "plt.show()\n"
      ]
    },
    {
      "cell_type": "code",
      "execution_count": 26,
      "metadata": {
        "id": "2I6mfCOj7MZx"
      },
      "outputs": [],
      "source": []
    }
  ],
  "metadata": {
    "colab": {
      "provenance": []
    },
    "kernelspec": {
      "display_name": "Python 3 (ipykernel)",
      "language": "python",
      "name": "python3"
    },
    "language_info": {
      "codemirror_mode": {
        "name": "ipython",
        "version": 3
      },
      "file_extension": ".py",
      "mimetype": "text/x-python",
      "name": "python",
      "nbconvert_exporter": "python",
      "pygments_lexer": "ipython3",
      "version": "3.9.13"
    }
  },
  "nbformat": 4,
  "nbformat_minor": 0
}