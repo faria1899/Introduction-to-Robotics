{
  "cells": [
    {
      "cell_type": "markdown",
      "metadata": {
        "id": "QLaRZsuTKGV1"
      },
      "source": [
        " ANSWER TO THE QUSTION NO 2(b)"
      ]
    },
    {
      "cell_type": "markdown",
      "source": [
        "Faria Naznin 1931198042"
      ],
      "metadata": {
        "id": "xeR1iIb35jdB"
      }
    },
    {
      "cell_type": "code",
      "execution_count": 1,
      "metadata": {
        "id": "dUWoKzmMWTpi"
      },
      "outputs": [],
      "source": [
        "#import libraries\n",
        "import numpy as np\n",
        "import matplotlib.pyplot as plt"
      ]
    },
    {
      "cell_type": "code",
      "execution_count": 2,
      "metadata": {
        "colab": {
          "base_uri": "https://localhost:8080/"
        },
        "id": "neA648efX2bS",
        "outputId": "e13d8b56-a3c3-4426-c0f2-e1f163ab1538"
      },
      "outputs": [
        {
          "output_type": "execute_result",
          "data": {
            "text/plain": [
              "array([0.000e+00, 1.000e-02, 2.000e-02, ..., 1.497e+01, 1.498e+01,\n",
              "       1.499e+01])"
            ]
          },
          "metadata": {},
          "execution_count": 2
        }
      ],
      "source": [
        "t = np.arange(0, 15, 0.01)\n",
        "t"
      ]
    },
    {
      "cell_type": "code",
      "execution_count": 3,
      "metadata": {
        "id": "boiuiu9thySN"
      },
      "outputs": [],
      "source": [
        "# Declare Final time T\n",
        "T= 15\n",
        "Tsq = np.power(T,2)\n",
        "Tcb = np.power(T,3)"
      ]
    },
    {
      "cell_type": "code",
      "execution_count": 4,
      "metadata": {
        "colab": {
          "base_uri": "https://localhost:8080/"
        },
        "id": "PgtEBvc9h0Yt",
        "outputId": "f19bee9c-3b48-48d8-b967-07740a3806fd"
      },
      "outputs": [
        {
          "output_type": "execute_result",
          "data": {
            "text/plain": [
              "array([[   1,    0,    0,    0,    0,    0,    0,    0],\n",
              "       [   0,    1,    0,    0,    0,    0,    0,    0],\n",
              "       [   0,    0,    0,    0,    1,    0,    0,    0],\n",
              "       [   0,    0,    0,    0,    0,    1,    0,    0],\n",
              "       [   1,   15,  225, 3375,    0,    0,    0,    0],\n",
              "       [   0,    1,   30,  675,    0,    0,    0,    0],\n",
              "       [   0,    0,    0,    0,    1,   15,  225, 3375],\n",
              "       [   0,    0,    0,    0,    0,    1,   30,  675]])"
            ]
          },
          "metadata": {},
          "execution_count": 4
        }
      ],
      "source": [
        "#initialized A\n",
        "A = np.array([[1, 0, 0, 0,  0, 0, 0, 0],\n",
        "              [0, 1, 0, 0,  0, 0, 0, 0],\n",
        "              [0, 0, 0, 0,  1, 0, 0, 0],\n",
        "              [0, 0, 0, 0,  0, 1, 0, 0],\n",
        "              [1, T, Tsq, Tcb,  0, 0, 0, 0],\n",
        "              [0, 1, 2*T, 3*Tsq,  0, 0, 0, 0],\n",
        "              [0, 0, 0, 0,  1, T, Tsq, Tcb,],\n",
        "              [0, 0, 0, 0,  0, 1, 2*T, 3*Tsq]\n",
        "              ]\n",
        "            )\n",
        "A"
      ]
    },
    {
      "cell_type": "code",
      "execution_count": 5,
      "metadata": {
        "colab": {
          "base_uri": "https://localhost:8080/"
        },
        "id": "i2wvUTTJh6FO",
        "outputId": "dca5c0bf-9559-43e9-b672-172e9e4481e4"
      },
      "outputs": [
        {
          "output_type": "execute_result",
          "data": {
            "text/plain": [
              "array([[ 1.00000000e+00,  6.57760495e-13, -5.52538061e-18,\n",
              "         0.00000000e+00, -6.19490567e-16,  3.81438435e-15,\n",
              "         0.00000000e+00,  0.00000000e+00],\n",
              "       [ 1.93424569e-16,  1.00000000e+00, -5.52332145e-17,\n",
              "         0.00000000e+00, -1.94900710e-16, -2.52873958e-17,\n",
              "         0.00000000e+00,  0.00000000e+00],\n",
              "       [-1.33333333e-02, -1.33333333e-01,  7.47210043e-18,\n",
              "         0.00000000e+00,  1.33333333e-02, -6.66666667e-02,\n",
              "         0.00000000e+00,  0.00000000e+00],\n",
              "       [ 5.92592593e-04,  4.44444444e-03, -2.50992886e-19,\n",
              "         0.00000000e+00, -5.92592593e-04,  4.44444444e-03,\n",
              "         0.00000000e+00,  0.00000000e+00],\n",
              "       [-2.04165123e-17,  3.53844622e-17,  1.00000000e+00,\n",
              "         4.14882717e-13,  2.04165123e-17, -1.02234920e-16,\n",
              "         5.02970729e-16, -3.22867442e-16],\n",
              "       [ 2.19473768e-18,  5.05716168e-17, -6.94486066e-17,\n",
              "         1.00000000e+00, -2.19473768e-18,  1.09897097e-17,\n",
              "        -5.40679670e-17,  1.25776347e-15],\n",
              "       [-2.15314420e-20, -7.32082839e-18, -1.33333333e-02,\n",
              "        -1.33333333e-01,  2.15314420e-20, -1.07769583e-19,\n",
              "         1.33333333e-02, -6.66666667e-02],\n",
              "       [-2.27057986e-21,  2.52717599e-19,  5.92592593e-04,\n",
              "         4.44444444e-03,  2.27057986e-21, -1.13714767e-20,\n",
              "        -5.92592593e-04,  4.44444444e-03]])"
            ]
          },
          "metadata": {},
          "execution_count": 5
        }
      ],
      "source": [
        "# A pesudo inverse\n",
        "Ainv = np.linalg.pinv(A)\n",
        "Ainv"
      ]
    },
    {
      "cell_type": "code",
      "execution_count": 6,
      "metadata": {
        "colab": {
          "base_uri": "https://localhost:8080/"
        },
        "id": "I_lcqstkh8Bd",
        "outputId": "34cadb30-4d8d-4026-c4cb-846125c45ab8"
      },
      "outputs": [
        {
          "output_type": "execute_result",
          "data": {
            "text/plain": [
              "array([[ 0. ],\n",
              "       [ 0. ],\n",
              "       [ 0. ],\n",
              "       [-0.5],\n",
              "       [ 5. ],\n",
              "       [ 0. ],\n",
              "       [ 5. ],\n",
              "       [-0.5]])"
            ]
          },
          "metadata": {},
          "execution_count": 6
        }
      ],
      "source": [
        "#initialized b\n",
        "b =  np.array([[0],#x1(0)\n",
        "               [0],#1\n",
        "               [0],#x3(0)\n",
        "               [-0.5],#x2(0)\n",
        "               [5],#x1(T)\n",
        "               [0],#1\n",
        "               [5],#x3(T)\n",
        "               [-0.5] #x2(T)\n",
        "              ]\n",
        "            )\n",
        "\n",
        "b"
      ]
    },
    {
      "cell_type": "code",
      "execution_count": 7,
      "metadata": {
        "colab": {
          "base_uri": "https://localhost:8080/"
        },
        "id": "sRcdYGrDiXR2",
        "outputId": "ff62aa32-6edd-49c5-affb-fb30464dfbc1"
      },
      "outputs": [
        {
          "output_type": "execute_result",
          "data": {
            "text/plain": [
              "array([[-3.09745283e-15],\n",
              "       [-9.74503549e-16],\n",
              "       [ 6.66666667e-02],\n",
              "       [-2.96296296e-03],\n",
              "       [-2.04662988e-13],\n",
              "       [-5.00000000e-01],\n",
              "       [ 1.66666667e-01],\n",
              "       [-7.40740741e-03]])"
            ]
          },
          "metadata": {},
          "execution_count": 7
        }
      ],
      "source": [
        "#matrix multiplication x = Ainv * b\n",
        "x= np.matmul(Ainv, b)\n",
        "x\n"
      ]
    },
    {
      "cell_type": "code",
      "execution_count": 8,
      "metadata": {
        "colab": {
          "base_uri": "https://localhost:8080/"
        },
        "id": "BKZdcve-igG2",
        "outputId": "28aa9595-58c8-4735-ad05-1438c60ed406"
      },
      "outputs": [
        {
          "output_type": "execute_result",
          "data": {
            "text/plain": [
              "array([-3.09745283e-15])"
            ]
          },
          "metadata": {},
          "execution_count": 8
        }
      ],
      "source": [
        "a11 = x[0]\n",
        "a11"
      ]
    },
    {
      "cell_type": "code",
      "execution_count": 9,
      "metadata": {
        "colab": {
          "base_uri": "https://localhost:8080/"
        },
        "id": "Q9a9pA2QimYF",
        "outputId": "1e7bae92-8da6-4605-cb6b-d686c245cb45"
      },
      "outputs": [
        {
          "output_type": "execute_result",
          "data": {
            "text/plain": [
              "array([-9.74503549e-16])"
            ]
          },
          "metadata": {},
          "execution_count": 9
        }
      ],
      "source": [
        "a12 = x[1]\n",
        "a12\n"
      ]
    },
    {
      "cell_type": "code",
      "execution_count": 10,
      "metadata": {
        "colab": {
          "base_uri": "https://localhost:8080/"
        },
        "id": "jvEAJvZoioZE",
        "outputId": "f5057bc1-d6fe-49bf-a512-2342232762ff"
      },
      "outputs": [
        {
          "output_type": "execute_result",
          "data": {
            "text/plain": [
              "array([0.06666667])"
            ]
          },
          "metadata": {},
          "execution_count": 10
        }
      ],
      "source": [
        "a13 = x[2]\n",
        "a13"
      ]
    },
    {
      "cell_type": "code",
      "execution_count": 11,
      "metadata": {
        "colab": {
          "base_uri": "https://localhost:8080/"
        },
        "id": "fyljNZdVioTt",
        "outputId": "8f502015-3627-49cb-b7bd-6018a31e4577"
      },
      "outputs": [
        {
          "output_type": "execute_result",
          "data": {
            "text/plain": [
              "array([-0.00296296])"
            ]
          },
          "metadata": {},
          "execution_count": 11
        }
      ],
      "source": [
        "a14 = x[3]\n",
        "a14"
      ]
    },
    {
      "cell_type": "code",
      "execution_count": 12,
      "metadata": {
        "colab": {
          "base_uri": "https://localhost:8080/"
        },
        "id": "1p750RowioQM",
        "outputId": "b078d928-ef25-4a8b-d9ef-37588765cd46"
      },
      "outputs": [
        {
          "output_type": "execute_result",
          "data": {
            "text/plain": [
              "array([-2.04662988e-13])"
            ]
          },
          "metadata": {},
          "execution_count": 12
        }
      ],
      "source": [
        "a21 = x[4]\n",
        "a21"
      ]
    },
    {
      "cell_type": "code",
      "execution_count": 13,
      "metadata": {
        "colab": {
          "base_uri": "https://localhost:8080/"
        },
        "id": "UG4ZdCKrioMU",
        "outputId": "01d790a3-5393-4fe4-c0fe-f6cfa6e06d82"
      },
      "outputs": [
        {
          "output_type": "execute_result",
          "data": {
            "text/plain": [
              "array([-0.5])"
            ]
          },
          "metadata": {},
          "execution_count": 13
        }
      ],
      "source": [
        "a22 = x[5]\n",
        "a22"
      ]
    },
    {
      "cell_type": "code",
      "execution_count": 14,
      "metadata": {
        "colab": {
          "base_uri": "https://localhost:8080/"
        },
        "id": "sIicIrFXioE-",
        "outputId": "e3397580-f458-4071-a413-3238ab27fefe"
      },
      "outputs": [
        {
          "output_type": "execute_result",
          "data": {
            "text/plain": [
              "array([0.16666667])"
            ]
          },
          "metadata": {},
          "execution_count": 14
        }
      ],
      "source": [
        "a23 = x[6]\n",
        "a23"
      ]
    },
    {
      "cell_type": "code",
      "execution_count": 15,
      "metadata": {
        "colab": {
          "base_uri": "https://localhost:8080/"
        },
        "id": "8gP6-nxKin5d",
        "outputId": "17665921-05c8-454e-a784-4bd832c07d8b"
      },
      "outputs": [
        {
          "output_type": "execute_result",
          "data": {
            "text/plain": [
              "array([-0.00740741])"
            ]
          },
          "metadata": {},
          "execution_count": 15
        }
      ],
      "source": [
        "a24 = x[7]\n",
        "a24"
      ]
    },
    {
      "cell_type": "code",
      "execution_count": 16,
      "metadata": {
        "colab": {
          "base_uri": "https://localhost:8080/"
        },
        "id": "MpzaRM1Mizc0",
        "outputId": "446eb7fe-ae95-4cb1-c3e8-e0a550833a4b"
      },
      "outputs": [
        {
          "output_type": "execute_result",
          "data": {
            "text/plain": [
              "(array([-3.09745283e-15,  6.66370370e-06,  2.66429630e-05, ...,\n",
              "         4.99994008e+00,  4.99997336e+00,  4.99999334e+00]),\n",
              " array([-2.04662988e-13, -4.98334074e-03, -9.93339259e-03, ...,\n",
              "         5.01485020e+00,  5.00993339e+00,  5.00498334e+00]))"
            ]
          },
          "metadata": {},
          "execution_count": 16
        }
      ],
      "source": [
        "for i in t:\n",
        "  X = a11 + (a12* t) + (a13 * np.power(t,2)) + (a14 * np.power(t,3))\n",
        "  Y = a21 + (a22* t) + (a23 * np.power(t,2)) + (a24 * np.power(t,3) )\n",
        "\n",
        "X, Y"
      ]
    },
    {
      "cell_type": "code",
      "execution_count": 17,
      "metadata": {
        "colab": {
          "base_uri": "https://localhost:8080/",
          "height": 489
        },
        "id": "yJLRzRloi9oU",
        "outputId": "f0c999cf-6c25-46a8-dab5-e85374e7e760"
      },
      "outputs": [
        {
          "output_type": "execute_result",
          "data": {
            "text/plain": [
              "Text(0, 0.5, 'Y')"
            ]
          },
          "metadata": {},
          "execution_count": 17
        },
        {
          "output_type": "display_data",
          "data": {
            "text/plain": [
              "<Figure size 640x480 with 1 Axes>"
            ],
            "image/png": "[encoded data removed]"
          },
          "metadata": {}
        }
      ],
      "source": [
        "plt.plot(X,Y)\n",
        "plt.title('X vs Y')\n",
        "plt.xlabel('X')\n",
        "plt.ylabel('Y')"
      ]
    }
  ],
  "metadata": {
    "colab": {
      "provenance": []
    },
    "kernelspec": {
      "display_name": "Python 3 (ipykernel)",
      "language": "python",
      "name": "python3"
    },
    "language_info": {
      "codemirror_mode": {
        "name": "ipython",
        "version": 3
      },
      "file_extension": ".py",
      "mimetype": "text/x-python",
      "name": "python",
      "nbconvert_exporter": "python",
      "pygments_lexer": "ipython3",
      "version": "3.9.13"
    }
  },
  "nbformat": 4,
  "nbformat_minor": 0
}